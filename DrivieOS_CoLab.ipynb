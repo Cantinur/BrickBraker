{
  "nbformat": 4,
  "nbformat_minor": 0,
  "metadata": {
    "colab": {
      "name": "DrivieOS_CoLab.ipynb",
      "provenance": [],
      "collapsed_sections": [],
      "authorship_tag": "ABX9TyOlRu93kkdN0SdpR0DcH6lG",
      "include_colab_link": true
    },
    "kernelspec": {
      "name": "python3",
      "display_name": "Python 3"
    }
  },
  "cells": [
    {
      "cell_type": "markdown",
      "metadata": {
        "id": "view-in-github",
        "colab_type": "text"
      },
      "source": [
        "<a href=\"https://colab.research.google.com/github/HenrikSandberg/BrickBreaker/blob/master/DrivieOS_CoLab.ipynb\" target=\"_parent\"><img src=\"https://colab.research.google.com/assets/colab-badge.svg\" alt=\"Open In Colab\"/></a>"
      ]
    },
    {
      "cell_type": "code",
      "metadata": {
        "id": "Ff-vsOClIvtL",
        "colab_type": "code",
        "colab": {
          "base_uri": "https://localhost:8080/",
          "height": 34
        },
        "outputId": "73349bec-41ed-4192-dcbd-c70fa2066263"
      },
      "source": [
        "!git clone https://github.com/rslim087a/track"
      ],
      "execution_count": 4,
      "outputs": [
        {
          "output_type": "stream",
          "text": [
            "fatal: destination path 'track' already exists and is not an empty directory.\n"
          ],
          "name": "stdout"
        }
      ]
    },
    {
      "cell_type": "code",
      "metadata": {
        "id": "iZhakCZfI9pK",
        "colab_type": "code",
        "colab": {
          "base_uri": "https://localhost:8080/",
          "height": 34
        },
        "outputId": "5bb5341e-3936-4ff2-b89a-743464479283"
      },
      "source": [
        "\n",
        "import os\n",
        "import numpy as np\n",
        "import matplotlib.pyplot as plt\n",
        "import matplotlib.image as mpimg\n",
        "from sklearn.utils import shuffle\n",
        "from sklearn.model_selection import train_test_split\n",
        "import cv2\n",
        "import pandas as pd\n",
        "import ntpath\n",
        "\n",
        "# TensorFlow related imports\n",
        "import tensorflow\n",
        "from tensorflow.keras.models import Sequential\n",
        "from tensorflow.keras.layers import Conv2D, Dense, Dropout, Flatten\n",
        "from tensorflow.keras.optimizers import Adam\n",
        "from tensorflow.keras.preprocessing.image import ImageDataGenerator\n",
        "\n",
        "print(tensorflow.__version__)\n",
        "os.environ['KMP_DUPLICATE_LIB_OK'] = 'True'\n",
        "\n"
      ],
      "execution_count": 5,
      "outputs": [
        {
          "output_type": "stream",
          "text": [
            "1.15.0\n"
          ],
          "name": "stdout"
        }
      ]
    },
    {
      "cell_type": "code",
      "metadata": {
        "id": "LttYxYWTJCB4",
        "colab_type": "code",
        "colab": {
          "base_uri": "https://localhost:8080/",
          "height": 224
        },
        "outputId": "ba6c3abc-443b-474e-fd76-ce6d2b269e19"
      },
      "source": [
        "np.random.seed(0)\n",
        "datadir = 'track'\n",
        "colums = ['center', 'left', 'right', 'steering', 'throttle', 'reverse', 'speed']\n",
        "data = pd.read_csv(os.path.join(datadir, 'driving_log.csv'), names=colums)\n",
        "# pd.set_option('display.max_colwidth', None)\n",
        "data.head()"
      ],
      "execution_count": 8,
      "outputs": [
        {
          "output_type": "execute_result",
          "data": {
            "text/html": [
              "<div>\n",
              "<style scoped>\n",
              "    .dataframe tbody tr th:only-of-type {\n",
              "        vertical-align: middle;\n",
              "    }\n",
              "\n",
              "    .dataframe tbody tr th {\n",
              "        vertical-align: top;\n",
              "    }\n",
              "\n",
              "    .dataframe thead th {\n",
              "        text-align: right;\n",
              "    }\n",
              "</style>\n",
              "<table border=\"1\" class=\"dataframe\">\n",
              "  <thead>\n",
              "    <tr style=\"text-align: right;\">\n",
              "      <th></th>\n",
              "      <th>center</th>\n",
              "      <th>left</th>\n",
              "      <th>right</th>\n",
              "      <th>steering</th>\n",
              "      <th>throttle</th>\n",
              "      <th>reverse</th>\n",
              "      <th>speed</th>\n",
              "    </tr>\n",
              "  </thead>\n",
              "  <tbody>\n",
              "    <tr>\n",
              "      <th>0</th>\n",
              "      <td>C:\\Users\\Amer\\Desktop\\new_track\\IMG\\center_201...</td>\n",
              "      <td>C:\\Users\\Amer\\Desktop\\new_track\\IMG\\left_2018_...</td>\n",
              "      <td>C:\\Users\\Amer\\Desktop\\new_track\\IMG\\right_2018...</td>\n",
              "      <td>0.0</td>\n",
              "      <td>0.0</td>\n",
              "      <td>0.0</td>\n",
              "      <td>0.649786</td>\n",
              "    </tr>\n",
              "    <tr>\n",
              "      <th>1</th>\n",
              "      <td>C:\\Users\\Amer\\Desktop\\new_track\\IMG\\center_201...</td>\n",
              "      <td>C:\\Users\\Amer\\Desktop\\new_track\\IMG\\left_2018_...</td>\n",
              "      <td>C:\\Users\\Amer\\Desktop\\new_track\\IMG\\right_2018...</td>\n",
              "      <td>0.0</td>\n",
              "      <td>0.0</td>\n",
              "      <td>0.0</td>\n",
              "      <td>0.627942</td>\n",
              "    </tr>\n",
              "    <tr>\n",
              "      <th>2</th>\n",
              "      <td>C:\\Users\\Amer\\Desktop\\new_track\\IMG\\center_201...</td>\n",
              "      <td>C:\\Users\\Amer\\Desktop\\new_track\\IMG\\left_2018_...</td>\n",
              "      <td>C:\\Users\\Amer\\Desktop\\new_track\\IMG\\right_2018...</td>\n",
              "      <td>0.0</td>\n",
              "      <td>0.0</td>\n",
              "      <td>0.0</td>\n",
              "      <td>0.622910</td>\n",
              "    </tr>\n",
              "    <tr>\n",
              "      <th>3</th>\n",
              "      <td>C:\\Users\\Amer\\Desktop\\new_track\\IMG\\center_201...</td>\n",
              "      <td>C:\\Users\\Amer\\Desktop\\new_track\\IMG\\left_2018_...</td>\n",
              "      <td>C:\\Users\\Amer\\Desktop\\new_track\\IMG\\right_2018...</td>\n",
              "      <td>0.0</td>\n",
              "      <td>0.0</td>\n",
              "      <td>0.0</td>\n",
              "      <td>0.619162</td>\n",
              "    </tr>\n",
              "    <tr>\n",
              "      <th>4</th>\n",
              "      <td>C:\\Users\\Amer\\Desktop\\new_track\\IMG\\center_201...</td>\n",
              "      <td>C:\\Users\\Amer\\Desktop\\new_track\\IMG\\left_2018_...</td>\n",
              "      <td>C:\\Users\\Amer\\Desktop\\new_track\\IMG\\right_2018...</td>\n",
              "      <td>0.0</td>\n",
              "      <td>0.0</td>\n",
              "      <td>0.0</td>\n",
              "      <td>0.615438</td>\n",
              "    </tr>\n",
              "  </tbody>\n",
              "</table>\n",
              "</div>"
            ],
            "text/plain": [
              "                                              center  ...     speed\n",
              "0  C:\\Users\\Amer\\Desktop\\new_track\\IMG\\center_201...  ...  0.649786\n",
              "1  C:\\Users\\Amer\\Desktop\\new_track\\IMG\\center_201...  ...  0.627942\n",
              "2  C:\\Users\\Amer\\Desktop\\new_track\\IMG\\center_201...  ...  0.622910\n",
              "3  C:\\Users\\Amer\\Desktop\\new_track\\IMG\\center_201...  ...  0.619162\n",
              "4  C:\\Users\\Amer\\Desktop\\new_track\\IMG\\center_201...  ...  0.615438\n",
              "\n",
              "[5 rows x 7 columns]"
            ]
          },
          "metadata": {
            "tags": []
          },
          "execution_count": 8
        }
      ]
    },
    {
      "cell_type": "code",
      "metadata": {
        "id": "NwSLM2rvJFJT",
        "colab_type": "code",
        "colab": {}
      },
      "source": [
        "def path_leaf(path):\n",
        "    head, tail = ntpath.split(path)\n",
        "    return tail\n",
        "\n",
        "\n",
        "def load_img_steering(datadir, df):\n",
        "    image_path = []\n",
        "    steering = []\n",
        "    for i in range(len(data)):\n",
        "        indexed_data = data.iloc[i]\n",
        "        center, left, right = indexed_data[0], indexed_data[1], indexed_data[2]\n",
        "        image_path.append(os.path.join(datadir, center.strip()))\n",
        "        steering.append(float(indexed_data[3]))\n",
        "    image_path = np.asarray(image_path)\n",
        "    steering = np.asarray(steering)\n",
        "    return (image_path, steering)\n",
        "\n",
        "\n",
        "def img_preprocess(img):\n",
        "    img = mpimg.imread(img)\n",
        "    img = img[60:135, :, :]\n",
        "    img = cv2.cvtColor(img, cv2.COLOR_RGB2YUV)\n",
        "    img = cv2.GaussianBlur(img, (3, 3), 0)\n",
        "    img = cv2.resize(img, (200, 66))\n",
        "    return img / 255\n",
        "\n",
        "\n",
        "def nvidia_model():\n",
        "    _model = Sequential([\n",
        "        # Convolution layers\n",
        "        Conv2D(24, kernel_size=(5, 5), strides=(2, 2), input_shape=(66, 200, 3), activation='elu'),\n",
        "        Conv2D(36, kernel_size=(5, 5), strides=(2, 2), activation='elu'),\n",
        "        Conv2D(48, kernel_size=(5, 5), strides=(2, 2), activation='elu'),\n",
        "        Conv2D(64, kernel_size=(3, 3), activation='elu'),\n",
        "        Conv2D(64, kernel_size=(3, 3), activation='elu'),\n",
        "\n",
        "        # Fully connected layers\n",
        "        Flatten(),\n",
        "        Dense(100, activation='elu'),\n",
        "        Dense(50, activation='elu'),\n",
        "        Dense(10, activation='elu'),\n",
        "        Dense(1)\n",
        "    ])\n",
        "    # Compile with optimizer\n",
        "    adam = Adam(learning_rate=0.006)\n",
        "    _model.compile(loss='mse', optimizer=adam)\n",
        "    return _model\n",
        "\n",
        "\n",
        "def print_history(_history):\n",
        "    plt.plot(_history.history['loss'])\n",
        "    plt.plot(_history.history['val_loss'])\n",
        "    plt.legend(['Training', 'Validation'])\n",
        "    plt.title('Loss')\n",
        "    plt.xlabel('Epoch')\n",
        "    plt.show()"
      ],
      "execution_count": 0,
      "outputs": []
    },
    {
      "cell_type": "code",
      "metadata": {
        "id": "qqoLy2GAJIQk",
        "colab_type": "code",
        "colab": {
          "base_uri": "https://localhost:8080/",
          "height": 190
        },
        "outputId": "3635eb5e-71cc-4fbd-f497-34a8198a1f7e"
      },
      "source": [
        "\n",
        "# Handle data\n",
        "data['center'] = data['center'].apply(path_leaf)\n",
        "data['left'] = data['left'].apply(path_leaf)\n",
        "data['right'] = data['right'].apply(path_leaf)\n",
        "data.head()\n",
        "\n",
        "num_bins = 25\n",
        "samples_per_bin = 300\n",
        "hist, bins = np.histogram(data['steering'], num_bins)\n",
        "center = (bins[:-1] + bins[1:]) * 0.5\n",
        "\n",
        "# Drop data so it is more even\n",
        "remove_list = []\n",
        "for j in range(num_bins):\n",
        "    list_ = []\n",
        "    for i in range(len(data['steering'])):\n",
        "        if bins[j] <= data['steering'][i] <= bins[j + 1]:\n",
        "            list_.append(i)\n",
        "    list_ = shuffle(list_)\n",
        "    list_ = list_[samples_per_bin:]\n",
        "    remove_list.extend(list_)\n",
        "\n",
        "print('removed: ', len(remove_list))\n",
        "data.drop(data.index[remove_list], inplace=True)\n",
        "print('removing: ', len(data))\n",
        "\n",
        "# Load images\n",
        "(image_path, steering) = load_img_steering(datadir + '/IMG', data)\n",
        "\n",
        "# Train data\n",
        "X_train, X_val, y_train, y_val = train_test_split(image_path, steering, test_size=0.2, random_state=6)\n",
        "\n",
        "print('Trainging Samples: {}\\nValidation Sample: {}'.format(len(X_train), len(X_val)))\n",
        "\n",
        "# Generate Validataion and Training data in np.arrays\n",
        "X_train = np.array(list(map(img_preprocess, X_train)))\n",
        "X_val = np.array(list(map(img_preprocess, X_val)))\n",
        "\n",
        "# Generate noise in data\n",
        "datagen = ImageDataGenerator(\n",
        "    width_shift_range=0.1,\n",
        "    height_shift_range=0.1,\n",
        "    zoom_range=0.2,\n",
        "    shear_range=0.1,\n",
        "    rotation_range=10)\n",
        "\n",
        "datagen.fit(X_train)\n",
        "# batches = datagen.flow(X_train, y_train, batch_size=300)\n",
        "# X_batch, y_batch = next(batches)\n",
        "\n",
        "# Train the data\n",
        "model = nvidia_model()\n",
        "\n",
        "# Load the pre-trained model if it exist\n",
        "try:\n",
        "    model.load_weights('model.h5')\n",
        "except Exception as e:\n",
        "    print('Exception:\\n{}'.format(str(e)))\n",
        "\n",
        "batch_size = 100"
      ],
      "execution_count": 10,
      "outputs": [
        {
          "output_type": "stream",
          "text": [
            "removed:  2690\n",
            "removing:  1363\n",
            "Trainging Samples: 1090\n",
            "Validation Sample: 273\n",
            "WARNING:tensorflow:From /usr/local/lib/python3.6/dist-packages/tensorflow_core/python/ops/resource_variable_ops.py:1630: calling BaseResourceVariable.__init__ (from tensorflow.python.ops.resource_variable_ops) with constraint is deprecated and will be removed in a future version.\n",
            "Instructions for updating:\n",
            "If using Keras pass *_constraint arguments to layers.\n",
            "Exception:\n",
            "Unable to open file (unable to open file: name = 'model.h5', errno = 2, error message = 'No such file or directory', flags = 0, o_flags = 0)\n"
          ],
          "name": "stdout"
        }
      ]
    },
    {
      "cell_type": "code",
      "metadata": {
        "id": "0Ga-km0QJKN8",
        "colab_type": "code",
        "colab": {
          "base_uri": "https://localhost:8080/",
          "height": 51
        },
        "outputId": "d61795a2-c860-49f7-b391-78b3d3f7041d"
      },
      "source": [
        "history = model.fit_generator(\n",
        "    datagen.flow(X_train, y_train, batch_size=batch_size),\n",
        "    steps_per_epoch=batch_size*3,\n",
        "    epochs=10,\n",
        "    validation_data=(X_val, y_val),\n",
        "    validation_steps=len(X_val),\n",
        "    verbose=1,\n",
        "    shuffle=1)"
      ],
      "execution_count": 0,
      "outputs": [
        {
          "output_type": "stream",
          "text": [
            "Epoch 1/10\n",
            "146/300 [=============>................] - ETA: 2:27 - loss: 12.7124"
          ],
          "name": "stdout"
        }
      ]
    },
    {
      "cell_type": "code",
      "metadata": {
        "id": "21CLLEItJUgo",
        "colab_type": "code",
        "colab": {}
      },
      "source": [
        "print_history(history)\n",
        "model.save('model.h5')"
      ],
      "execution_count": 0,
      "outputs": []
    }
  ]
}